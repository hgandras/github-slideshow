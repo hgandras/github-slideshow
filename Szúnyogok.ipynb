{
  "nbformat": 4,
  "nbformat_minor": 0,
  "metadata": {
    "colab": {
      "name": "Szúnyogok.ipynb",
      "provenance": [],
      "collapsed_sections": [],
      "toc_visible": true,
      "mount_file_id": "11Y9GSihQIk3j69m70QOGx2mc9Cs5268w",
      "authorship_tag": "ABX9TyNtbzhXbjQCvvwtHvgbhHqB",
      "include_colab_link": true
    },
    "kernelspec": {
      "name": "python3",
      "display_name": "Python 3"
    },
    "accelerator": "GPU"
  },
  "cells": [
    {
      "cell_type": "markdown",
      "metadata": {
        "id": "view-in-github",
        "colab_type": "text"
      },
      "source": [
        "<a href=\"https://colab.research.google.com/github/hgandras/github-slideshow/blob/master/Sz%C3%BAnyogok.ipynb\" target=\"_parent\"><img src=\"https://colab.research.google.com/assets/colab-badge.svg\" alt=\"Open In Colab\"/></a>"
      ]
    },
    {
      "cell_type": "code",
      "metadata": {
        "id": "o51rDZPwfbC3",
        "colab_type": "code",
        "colab": {}
      },
      "source": [
        "%tensorflow_version 2.x"
      ],
      "execution_count": 1,
      "outputs": []
    },
    {
      "cell_type": "code",
      "metadata": {
        "id": "nJEhej2sfmNB",
        "colab_type": "code",
        "colab": {}
      },
      "source": [
        "import pandas as pd\n",
        "import numpy as np\n",
        "from google.colab import files\n",
        "from pathlib import Path\n",
        "from PIL import Image\n",
        "import glob\n",
        "from natsort import humansorted\n",
        "import re \n",
        "from tensorflow.keras.preprocessing.image import img_to_array, load_img\n",
        "import shutil as st\n",
        "from keras.preprocessing import image\n",
        "import matplotlib.pyplot as plt\n",
        "from keras.applications.inception_resnet_v2 import preprocess_input\n",
        "from keras.applications.imagenet_utils import decode_predictions"
      ],
      "execution_count": 2,
      "outputs": []
    },
    {
      "cell_type": "code",
      "metadata": {
        "id": "jOHfVCQlX5DZ",
        "colab_type": "code",
        "colab": {}
      },
      "source": [
        "from tensorflow.keras.layers import Dense\n",
        "from tensorflow.keras.models import Model\n",
        "from tensorflow.keras.optimizers import Adam\n",
        "from tensorflow.keras.applications import ResNet50\n",
        "from tensorflow.keras.preprocessing.image import ImageDataGenerator\n",
        "from tensorflow.keras.applications import InceptionResNetV2"
      ],
      "execution_count": 3,
      "outputs": []
    },
    {
      "cell_type": "code",
      "metadata": {
        "id": "Nsq0dgOKcYxt",
        "colab_type": "code",
        "colab": {}
      },
      "source": [
        "kepek=list(Path('drive/My Drive/images/').glob('*'))\n",
        "szunyoge=pd.read_csv('drive/My Drive/train.csv')\n",
        "for o in range(len(kepek)):\n",
        "  kepek[o]=str(kepek[o])"
      ],
      "execution_count": 4,
      "outputs": []
    },
    {
      "cell_type": "code",
      "metadata": {
        "id": "b7BQL0Bgn0bI",
        "colab_type": "code",
        "colab": {}
      },
      "source": [
        "valogatott_kepek=humansorted(kepek)\n",
        "test_data=sorted(valogatott_kepek[:1794])\n",
        "train_data=sorted(valogatott_kepek[1794:])"
      ],
      "execution_count": 5,
      "outputs": []
    },
    {
      "cell_type": "code",
      "metadata": {
        "id": "bxEq6sdXocg2",
        "colab_type": "code",
        "colab": {
          "base_uri": "https://localhost:8080/",
          "height": 204
        },
        "outputId": "c1b21502-db67-4846-e4ae-0d23a25efee1"
      },
      "source": [
        "szunyoge.head()"
      ],
      "execution_count": 6,
      "outputs": [
        {
          "output_type": "execute_result",
          "data": {
            "text/html": [
              "<div>\n",
              "<style scoped>\n",
              "    .dataframe tbody tr th:only-of-type {\n",
              "        vertical-align: middle;\n",
              "    }\n",
              "\n",
              "    .dataframe tbody tr th {\n",
              "        vertical-align: top;\n",
              "    }\n",
              "\n",
              "    .dataframe thead th {\n",
              "        text-align: right;\n",
              "    }\n",
              "</style>\n",
              "<table border=\"1\" class=\"dataframe\">\n",
              "  <thead>\n",
              "    <tr style=\"text-align: right;\">\n",
              "      <th></th>\n",
              "      <th>file</th>\n",
              "      <th>is_tiger</th>\n",
              "    </tr>\n",
              "  </thead>\n",
              "  <tbody>\n",
              "    <tr>\n",
              "      <th>0</th>\n",
              "      <td>images/train_0.png</td>\n",
              "      <td>1</td>\n",
              "    </tr>\n",
              "    <tr>\n",
              "      <th>1</th>\n",
              "      <td>images/train_1.png</td>\n",
              "      <td>1</td>\n",
              "    </tr>\n",
              "    <tr>\n",
              "      <th>2</th>\n",
              "      <td>images/train_2.png</td>\n",
              "      <td>1</td>\n",
              "    </tr>\n",
              "    <tr>\n",
              "      <th>3</th>\n",
              "      <td>images/train_3.png</td>\n",
              "      <td>1</td>\n",
              "    </tr>\n",
              "    <tr>\n",
              "      <th>4</th>\n",
              "      <td>images/train_4.png</td>\n",
              "      <td>1</td>\n",
              "    </tr>\n",
              "  </tbody>\n",
              "</table>\n",
              "</div>"
            ],
            "text/plain": [
              "                 file  is_tiger\n",
              "0  images/train_0.png         1\n",
              "1  images/train_1.png         1\n",
              "2  images/train_2.png         1\n",
              "3  images/train_3.png         1\n",
              "4  images/train_4.png         1"
            ]
          },
          "metadata": {
            "tags": []
          },
          "execution_count": 6
        }
      ]
    },
    {
      "cell_type": "code",
      "metadata": {
        "id": "58eYJHrkqbVE",
        "colab_type": "code",
        "colab": {
          "base_uri": "https://localhost:8080/",
          "height": 204
        },
        "outputId": "d01029b7-ca1b-4947-9d9a-40b1e36da58f"
      },
      "source": [
        "szunyoge.sort_values(by='file',inplace=True)\n",
        "szunyoge.head()"
      ],
      "execution_count": 7,
      "outputs": [
        {
          "output_type": "execute_result",
          "data": {
            "text/html": [
              "<div>\n",
              "<style scoped>\n",
              "    .dataframe tbody tr th:only-of-type {\n",
              "        vertical-align: middle;\n",
              "    }\n",
              "\n",
              "    .dataframe tbody tr th {\n",
              "        vertical-align: top;\n",
              "    }\n",
              "\n",
              "    .dataframe thead th {\n",
              "        text-align: right;\n",
              "    }\n",
              "</style>\n",
              "<table border=\"1\" class=\"dataframe\">\n",
              "  <thead>\n",
              "    <tr style=\"text-align: right;\">\n",
              "      <th></th>\n",
              "      <th>file</th>\n",
              "      <th>is_tiger</th>\n",
              "    </tr>\n",
              "  </thead>\n",
              "  <tbody>\n",
              "    <tr>\n",
              "      <th>0</th>\n",
              "      <td>images/train_0.png</td>\n",
              "      <td>1</td>\n",
              "    </tr>\n",
              "    <tr>\n",
              "      <th>1</th>\n",
              "      <td>images/train_1.png</td>\n",
              "      <td>1</td>\n",
              "    </tr>\n",
              "    <tr>\n",
              "      <th>10</th>\n",
              "      <td>images/train_10.png</td>\n",
              "      <td>1</td>\n",
              "    </tr>\n",
              "    <tr>\n",
              "      <th>100</th>\n",
              "      <td>images/train_100.png</td>\n",
              "      <td>1</td>\n",
              "    </tr>\n",
              "    <tr>\n",
              "      <th>1000</th>\n",
              "      <td>images/train_1000.png</td>\n",
              "      <td>1</td>\n",
              "    </tr>\n",
              "  </tbody>\n",
              "</table>\n",
              "</div>"
            ],
            "text/plain": [
              "                       file  is_tiger\n",
              "0        images/train_0.png         1\n",
              "1        images/train_1.png         1\n",
              "10      images/train_10.png         1\n",
              "100    images/train_100.png         1\n",
              "1000  images/train_1000.png         1"
            ]
          },
          "metadata": {
            "tags": []
          },
          "execution_count": 7
        }
      ]
    },
    {
      "cell_type": "code",
      "metadata": {
        "id": "7TVciZ7rw65_",
        "colab_type": "code",
        "colab": {
          "base_uri": "https://localhost:8080/",
          "height": 34
        },
        "outputId": "8216e777-6b41-4746-f3b4-cad71cebed73"
      },
      "source": [
        "train_label=list(szunyoge['is_tiger'])\n",
        "len(train_label)"
      ],
      "execution_count": 8,
      "outputs": [
        {
          "output_type": "execute_result",
          "data": {
            "text/plain": [
              "4279"
            ]
          },
          "metadata": {
            "tags": []
          },
          "execution_count": 8
        }
      ]
    },
    {
      "cell_type": "code",
      "metadata": {
        "id": "as9hQLht8Kzi",
        "colab_type": "code",
        "colab": {
          "base_uri": "https://localhost:8080/",
          "height": 34
        },
        "outputId": "6f2c74e3-833d-4bde-bbfb-0e6ab84e69db"
      },
      "source": [
        "len(train_data)"
      ],
      "execution_count": 9,
      "outputs": [
        {
          "output_type": "execute_result",
          "data": {
            "text/plain": [
              "4279"
            ]
          },
          "metadata": {
            "tags": []
          },
          "execution_count": 9
        }
      ]
    },
    {
      "cell_type": "code",
      "metadata": {
        "id": "D-Q1s03O0eg8",
        "colab_type": "code",
        "colab": {
          "base_uri": "https://localhost:8080/",
          "height": 217
        },
        "outputId": "1c93c8fe-68c3-45bb-eb35-4647d4475a0f"
      },
      "source": [
        "Image.open('drive/My Drive/images/train_100.png')"
      ],
      "execution_count": 10,
      "outputs": [
        {
          "output_type": "execute_result",
          "data": {
            "image/png": "[encoded data removed]",
            "text/plain": [
              "<PIL.PngImagePlugin.PngImageFile image mode=RGB size=200x200 at 0x7F70B5A83550>"
            ]
          },
          "metadata": {
            "tags": []
          },
          "execution_count": 10
        }
      ]
    },
    {
      "cell_type": "code",
      "metadata": {
        "id": "Y0lz_t_DqFof",
        "colab_type": "code",
        "colab": {}
      },
      "source": [
        "tigris_szunyog=[]\n",
        "mas_szunyog=[]\n",
        "for k in range(len(train_data)):\n",
        "  if train_label[k]==1:\n",
        "    tigris_szunyog.append(train_data[k])\n",
        "  if train_label[k]==0:\n",
        "    mas_szunyog.append(train_data[k])"
      ],
      "execution_count": 11,
      "outputs": []
    },
    {
      "cell_type": "code",
      "metadata": {
        "id": "4Pq5MQU33eVN",
        "colab_type": "code",
        "colab": {}
      },
      "source": [
        "#for im in train_data:\n",
        "#  if im in tigris_szunyog:\n",
        "#    st.copy2(str(im),'drive/My Drive/train/is_tiger')\n",
        "#  if im in mas_szunyog:\n",
        "#   st.copy2(str(im),'drive/My Drive/train/not_tiger')"
      ],
      "execution_count": 12,
      "outputs": []
    },
    {
      "cell_type": "code",
      "metadata": {
        "id": "AW603gWCNHhq",
        "colab_type": "code",
        "colab": {
          "base_uri": "https://localhost:8080/",
          "height": 34
        },
        "outputId": "5361d8b2-1832-48e3-e178-7bcbc155b29e"
      },
      "source": [
        "kepek1=list(Path('drive/My Drive/train/is_tiger').glob('*'))\n",
        "kepek2=list(Path('drive/My Drive/train/not_tiger').glob('*'))\n",
        "len(kepek1)"
      ],
      "execution_count": 13,
      "outputs": [
        {
          "output_type": "execute_result",
          "data": {
            "text/plain": [
              "500"
            ]
          },
          "metadata": {
            "tags": []
          },
          "execution_count": 13
        }
      ]
    },
    {
      "cell_type": "code",
      "metadata": {
        "id": "g0CwccvfgCCk",
        "colab_type": "code",
        "colab": {
          "base_uri": "https://localhost:8080/",
          "height": 34
        },
        "outputId": "293f58b6-c53a-4eaf-aa4f-f6738b813157"
      },
      "source": [
        "len(kepek2)"
      ],
      "execution_count": 14,
      "outputs": [
        {
          "output_type": "execute_result",
          "data": {
            "text/plain": [
              "300"
            ]
          },
          "metadata": {
            "tags": []
          },
          "execution_count": 14
        }
      ]
    },
    {
      "cell_type": "code",
      "metadata": {
        "id": "plspq2LDghYf",
        "colab_type": "code",
        "colab": {}
      },
      "source": [
        "#for h in range(0):\n",
        "#  st.move(str(kepek2[h]),'drive/My Drive/val/not_tiger')\n",
        "#for n in range(1000):\n",
        "# st.move(str(kepek1[n]),'drive/My Drive/val/is_tiger')"
      ],
      "execution_count": 15,
      "outputs": []
    },
    {
      "cell_type": "code",
      "metadata": {
        "id": "kfPIrbaXJS2l",
        "colab_type": "code",
        "colab": {
          "base_uri": "https://localhost:8080/",
          "height": 34
        },
        "outputId": "2e72c6dc-fee0-4ac4-fb9b-17a9cd6069c7"
      },
      "source": [
        "kepek3=list(Path('drive/My Drive/val/is_tiger').glob('*'))\n",
        "len(kepek3)"
      ],
      "execution_count": 16,
      "outputs": [
        {
          "output_type": "execute_result",
          "data": {
            "text/plain": [
              "3083"
            ]
          },
          "metadata": {
            "tags": []
          },
          "execution_count": 16
        }
      ]
    },
    {
      "cell_type": "code",
      "metadata": {
        "id": "Lb8pN4fOzAx4",
        "colab_type": "code",
        "colab": {}
      },
      "source": [
        "def imagenet_convert(img):\n",
        "    img  = img.astype(float)[...,::-1] # RGB --> BGR\n",
        "    img -= [103.939, 116.779, 123.68]\n",
        "    return img"
      ],
      "execution_count": 17,
      "outputs": []
    },
    {
      "cell_type": "code",
      "metadata": {
        "id": "l0OjHx2S5-6a",
        "colab_type": "code",
        "colab": {
          "base_uri": "https://localhost:8080/",
          "height": 51
        },
        "outputId": "9bef1f2b-d258-4e28-e5df-ab39abb1b81e"
      },
      "source": [
        "train_datagenerator = ImageDataGenerator(preprocessing_function=imagenet_convert)\n",
        "val_datagenerator  = ImageDataGenerator(preprocessing_function=imagenet_convert)\n",
        "\n",
        "train_datagenerator = train_datagenerator.flow_from_directory(\n",
        "        'drive/My Drive/train/',\n",
        "        target_size=(224, 224),\n",
        "        batch_size=10,\n",
        "        class_mode='binary')\n",
        "val_datagenerator= val_datagenerator.flow_from_directory(\n",
        "        'drive/My Drive/val/',\n",
        "        target_size=(224,224),\n",
        "        batch_size=10 ,\n",
        "        class_mode='binary'\n",
        ")"
      ],
      "execution_count": 18,
      "outputs": [
        {
          "output_type": "stream",
          "text": [
            "Found 800 images belonging to 2 classes.\n",
            "Found 3479 images belonging to 2 classes.\n"
          ],
          "name": "stdout"
        }
      ]
    },
    {
      "cell_type": "code",
      "metadata": {
        "id": "Bnmc_xOn6GYZ",
        "colab_type": "code",
        "colab": {}
      },
      "source": [
        "model = ResNet50(weights=None)\n",
        "pretrained_model = ResNet50(weights='imagenet')"
      ],
      "execution_count": 19,
      "outputs": []
    },
    {
      "cell_type": "code",
      "metadata": {
        "id": "dcKBQHtd6nM-",
        "colab_type": "code",
        "colab": {}
      },
      "source": [
        "model._layers.pop()\n",
        "inputs = model.input\n",
        "output = model.layers[-1].output\n",
        "output = Dense(1, activation='sigmoid')(output)\n",
        "model = Model(inputs, output)"
      ],
      "execution_count": 20,
      "outputs": []
    },
    {
      "cell_type": "code",
      "metadata": {
        "id": "f4btQxIeX5D3",
        "colab_type": "code",
        "colab": {}
      },
      "source": [
        "pretrained_model._layers.pop()\n",
        "inputs = pretrained_model.input\n",
        "output = pretrained_model.layers[-1].output\n",
        "output = Dense(1, activation='sigmoid')(output)\n",
        "pretrained_model = Model(inputs, output)"
      ],
      "execution_count": 21,
      "outputs": []
    },
    {
      "cell_type": "code",
      "metadata": {
        "id": "Fv4FC-0SX5D8",
        "colab_type": "code",
        "colab": {}
      },
      "source": [
        "for i in pretrained_model.layers[:-1]:\n",
        "    i.trainable = False"
      ],
      "execution_count": 22,
      "outputs": []
    },
    {
      "cell_type": "code",
      "metadata": {
        "id": "0i1l6EvwAj6_",
        "colab_type": "code",
        "colab": {}
      },
      "source": [
        "pretrained_model.compile(optimizer=Adam(lr=1e-4),loss='binary_crossentropy',metrics=['accuracy'])"
      ],
      "execution_count": 23,
      "outputs": []
    },
    {
      "cell_type": "code",
      "metadata": {
        "id": "EWF5ihivAsUw",
        "colab_type": "code",
        "colab": {
          "base_uri": "https://localhost:8080/",
          "height": 884
        },
        "outputId": "eb2b0061-69b5-4190-df5f-85a7ee9e3476"
      },
      "source": [
        "pretrained_model.fit(train_datagenerator, steps_per_epoch=len(train_datagenerator),\n",
        "                     validation_data=val_datagenerator, validation_steps = len(val_datagenerator),\n",
        "                     validation_freq=5, epochs=25)"
      ],
      "execution_count": 24,
      "outputs": [
        {
          "output_type": "stream",
          "text": [
            "Epoch 1/25\n",
            "80/80 [==============================] - 157s 2s/step - loss: 0.7904 - accuracy: 0.5400\n",
            "Epoch 2/25\n",
            "80/80 [==============================] - 5s 59ms/step - loss: 0.6617 - accuracy: 0.6275\n",
            "Epoch 3/25\n",
            "80/80 [==============================] - 5s 59ms/step - loss: 0.5753 - accuracy: 0.7138\n",
            "Epoch 4/25\n",
            "80/80 [==============================] - 5s 59ms/step - loss: 0.5145 - accuracy: 0.7588\n",
            "Epoch 5/25\n",
            "80/80 [==============================] - 1740s 22s/step - loss: 0.4689 - accuracy: 0.7987 - val_loss: 0.3760 - val_accuracy: 0.8730\n",
            "Epoch 6/25\n",
            "80/80 [==============================] - 5s 58ms/step - loss: 0.4339 - accuracy: 0.8238\n",
            "Epoch 7/25\n",
            "80/80 [==============================] - 5s 58ms/step - loss: 0.4060 - accuracy: 0.8388\n",
            "Epoch 8/25\n",
            "80/80 [==============================] - 5s 57ms/step - loss: 0.3823 - accuracy: 0.8475\n",
            "Epoch 9/25\n",
            "80/80 [==============================] - 5s 58ms/step - loss: 0.3641 - accuracy: 0.8550\n",
            "Epoch 10/25\n",
            "80/80 [==============================] - 23s 291ms/step - loss: 0.3482 - accuracy: 0.8575 - val_loss: 0.3188 - val_accuracy: 0.8842\n",
            "Epoch 11/25\n",
            "80/80 [==============================] - 5s 57ms/step - loss: 0.3341 - accuracy: 0.8662\n",
            "Epoch 12/25\n",
            "80/80 [==============================] - 5s 57ms/step - loss: 0.3222 - accuracy: 0.8750\n",
            "Epoch 13/25\n",
            "80/80 [==============================] - 5s 57ms/step - loss: 0.3120 - accuracy: 0.8763\n",
            "Epoch 14/25\n",
            "80/80 [==============================] - 5s 57ms/step - loss: 0.3016 - accuracy: 0.8900\n",
            "Epoch 15/25\n",
            "80/80 [==============================] - 24s 294ms/step - loss: 0.2939 - accuracy: 0.8863 - val_loss: 0.2810 - val_accuracy: 0.8957\n",
            "Epoch 16/25\n",
            "80/80 [==============================] - 5s 58ms/step - loss: 0.2830 - accuracy: 0.8950\n",
            "Epoch 17/25\n",
            "80/80 [==============================] - 5s 57ms/step - loss: 0.2758 - accuracy: 0.8925\n",
            "Epoch 18/25\n",
            "80/80 [==============================] - 5s 57ms/step - loss: 0.2686 - accuracy: 0.8938\n",
            "Epoch 19/25\n",
            "80/80 [==============================] - 5s 58ms/step - loss: 0.2655 - accuracy: 0.9038\n",
            "Epoch 20/25\n",
            "80/80 [==============================] - 23s 290ms/step - loss: 0.2554 - accuracy: 0.9013 - val_loss: 0.2397 - val_accuracy: 0.9100\n",
            "Epoch 21/25\n",
            "80/80 [==============================] - 4s 56ms/step - loss: 0.2503 - accuracy: 0.9038\n",
            "Epoch 22/25\n",
            "80/80 [==============================] - 4s 56ms/step - loss: 0.2451 - accuracy: 0.9162\n",
            "Epoch 23/25\n",
            "80/80 [==============================] - 5s 57ms/step - loss: 0.2396 - accuracy: 0.9162\n",
            "Epoch 24/25\n",
            "80/80 [==============================] - 5s 56ms/step - loss: 0.2354 - accuracy: 0.9125\n",
            "Epoch 25/25\n",
            "80/80 [==============================] - 23s 284ms/step - loss: 0.2304 - accuracy: 0.9162 - val_loss: 0.2536 - val_accuracy: 0.9014\n"
          ],
          "name": "stdout"
        },
        {
          "output_type": "execute_result",
          "data": {
            "text/plain": [
              "<tensorflow.python.keras.callbacks.History at 0x7f7047d0ab00>"
            ]
          },
          "metadata": {
            "tags": []
          },
          "execution_count": 24
        }
      ]
    },
    {
      "cell_type": "code",
      "metadata": {
        "id": "8_zjypAIfuq8",
        "colab_type": "code",
        "colab": {
          "base_uri": "https://localhost:8080/",
          "height": 35
        },
        "outputId": "757cc3b5-61cd-4fac-88a6-70985041205f"
      },
      "source": [
        "for i in range(len(test_data)):\n",
        "  test_data[i]=str(test_data[i])\n",
        "test_nat=humansorted(test_data)\n",
        "len(test_nat)\n",
        "test_nat[-1]"
      ],
      "execution_count": 25,
      "outputs": [
        {
          "output_type": "execute_result",
          "data": {
            "application/vnd.google.colaboratory.intrinsic+json": {
              "type": "string"
            },
            "text/plain": [
              "'drive/My Drive/images/test_1793.png'"
            ]
          },
          "metadata": {
            "tags": []
          },
          "execution_count": 25
        }
      ]
    },
    {
      "cell_type": "code",
      "metadata": {
        "id": "VSene2aIYIde",
        "colab_type": "code",
        "colab": {}
      },
      "source": [
        "def datapreprocess(sorszam):\n",
        "  img1 = image.load_img(test_nat[sorszam], target_size=(224, 224))\n",
        "  img1 = image.img_to_array(img1)\n",
        "  x = preprocess_input(np.expand_dims(img1.copy(), axis=0))\n",
        "  pred=pretrained_model.predict(x)\n",
        "  return(1-pred)"
      ],
      "execution_count": 26,
      "outputs": []
    },
    {
      "cell_type": "code",
      "metadata": {
        "id": "FEcyWhNN9sPR",
        "colab_type": "code",
        "colab": {
          "base_uri": "https://localhost:8080/",
          "height": 34
        },
        "outputId": "b45c3113-978f-412b-d033-cf95ab1c2477"
      },
      "source": [
        "predictions=[]\n",
        "for szam in range(len(test_nat)):\n",
        "  predictions.append(datapreprocess(szam))\n",
        "len(predictions)"
      ],
      "execution_count": 27,
      "outputs": [
        {
          "output_type": "execute_result",
          "data": {
            "text/plain": [
              "1794"
            ]
          },
          "metadata": {
            "tags": []
          },
          "execution_count": 27
        }
      ]
    },
    {
      "cell_type": "code",
      "metadata": {
        "id": "NiEObq4BasH5",
        "colab_type": "code",
        "colab": {}
      },
      "source": [
        "for h in range(len(predictions)):\n",
        "  predictions[h]=float(predictions[h])"
      ],
      "execution_count": 28,
      "outputs": []
    },
    {
      "cell_type": "code",
      "metadata": {
        "id": "nrisYmU3gj71",
        "colab_type": "code",
        "colab": {}
      },
      "source": [
        "file_names=[]\n",
        "for l in range(len(test_nat)):\n",
        "  file_names.append(test_nat[l].replace('drive/My Drive/',''))\n",
        "len(file_names)\n",
        "beadandó_d={'file':file_names,'is_tiger':predictions}"
      ],
      "execution_count": 29,
      "outputs": []
    },
    {
      "cell_type": "code",
      "metadata": {
        "id": "gsR6vhB7hkVM",
        "colab_type": "code",
        "colab": {}
      },
      "source": [
        "beadandó_csv=pd.DataFrame(beadandó_d)"
      ],
      "execution_count": 30,
      "outputs": []
    },
    {
      "cell_type": "code",
      "metadata": {
        "id": "9SsGN3qxh0WO",
        "colab_type": "code",
        "colab": {
          "base_uri": "https://localhost:8080/",
          "height": 204
        },
        "outputId": "ed4efe83-9db8-4394-e10b-7094388a1b4f"
      },
      "source": [
        "beadandó_csv.head()"
      ],
      "execution_count": 31,
      "outputs": [
        {
          "output_type": "execute_result",
          "data": {
            "text/html": [
              "<div>\n",
              "<style scoped>\n",
              "    .dataframe tbody tr th:only-of-type {\n",
              "        vertical-align: middle;\n",
              "    }\n",
              "\n",
              "    .dataframe tbody tr th {\n",
              "        vertical-align: top;\n",
              "    }\n",
              "\n",
              "    .dataframe thead th {\n",
              "        text-align: right;\n",
              "    }\n",
              "</style>\n",
              "<table border=\"1\" class=\"dataframe\">\n",
              "  <thead>\n",
              "    <tr style=\"text-align: right;\">\n",
              "      <th></th>\n",
              "      <th>file</th>\n",
              "      <th>is_tiger</th>\n",
              "    </tr>\n",
              "  </thead>\n",
              "  <tbody>\n",
              "    <tr>\n",
              "      <th>0</th>\n",
              "      <td>images/test_0.png</td>\n",
              "      <td>0.247071</td>\n",
              "    </tr>\n",
              "    <tr>\n",
              "      <th>1</th>\n",
              "      <td>images/test_1.png</td>\n",
              "      <td>0.237144</td>\n",
              "    </tr>\n",
              "    <tr>\n",
              "      <th>2</th>\n",
              "      <td>images/test_2.png</td>\n",
              "      <td>0.261841</td>\n",
              "    </tr>\n",
              "    <tr>\n",
              "      <th>3</th>\n",
              "      <td>images/test_3.png</td>\n",
              "      <td>0.179615</td>\n",
              "    </tr>\n",
              "    <tr>\n",
              "      <th>4</th>\n",
              "      <td>images/test_4.png</td>\n",
              "      <td>0.217635</td>\n",
              "    </tr>\n",
              "  </tbody>\n",
              "</table>\n",
              "</div>"
            ],
            "text/plain": [
              "                file  is_tiger\n",
              "0  images/test_0.png  0.247071\n",
              "1  images/test_1.png  0.237144\n",
              "2  images/test_2.png  0.261841\n",
              "3  images/test_3.png  0.179615\n",
              "4  images/test_4.png  0.217635"
            ]
          },
          "metadata": {
            "tags": []
          },
          "execution_count": 31
        }
      ]
    },
    {
      "cell_type": "code",
      "metadata": {
        "id": "dAUqiXjph2j7",
        "colab_type": "code",
        "colab": {
          "base_uri": "https://localhost:8080/",
          "height": 34
        },
        "outputId": "4fe7d9e4-1308-4dde-cd6e-c38e00d1051a"
      },
      "source": [
        "datapreprocess(7)"
      ],
      "execution_count": 32,
      "outputs": [
        {
          "output_type": "execute_result",
          "data": {
            "text/plain": [
              "array([[0.25940907]], dtype=float32)"
            ]
          },
          "metadata": {
            "tags": []
          },
          "execution_count": 32
        }
      ]
    },
    {
      "cell_type": "code",
      "metadata": {
        "colab_type": "code",
        "id": "46wKdFajlxlW",
        "colab": {
          "base_uri": "https://localhost:8080/",
          "height": 217
        },
        "outputId": "fb7e2418-d0ce-4419-e4aa-f51a9abfd32b"
      },
      "source": [
        "Image.open('drive/My Drive/test/test_7.png')"
      ],
      "execution_count": 33,
      "outputs": [
        {
          "output_type": "execute_result",
          "data": {
            "image/png": "[encoded data removed]",
            "text/plain": [
              "<PIL.PngImagePlugin.PngImageFile image mode=RGB size=200x200 at 0x7F704640C828>"
            ]
          },
          "metadata": {
            "tags": []
          },
          "execution_count": 33
        }
      ]
    },
    {
      "cell_type": "code",
      "metadata": {
        "id": "GNzcG9Ehmxxl",
        "colab_type": "code",
        "colab": {}
      },
      "source": [
        "beadandó_csv.to_csv('szunyog_predictions_3.csv', index=False)"
      ],
      "execution_count": 34,
      "outputs": []
    },
    {
      "cell_type": "code",
      "metadata": {
        "id": "tRQoynjonU_-",
        "colab_type": "code",
        "colab": {
          "base_uri": "https://localhost:8080/",
          "height": 17
        },
        "outputId": "0e875682-ab49-4ba5-8ec0-900414d7f8c3"
      },
      "source": [
        "files.download('szunyog_predictions_3.csv')"
      ],
      "execution_count": 35,
      "outputs": [
        {
          "output_type": "display_data",
          "data": {
            "application/javascript": [
              "\n",
              "    async function download(id, filename, size) {\n",
              "      if (!google.colab.kernel.accessAllowed) {\n",
              "        return;\n",
              "      }\n",
              "      const div = document.createElement('div');\n",
              "      const label = document.createElement('label');\n",
              "      label.textContent = `Downloading \"${filename}\": `;\n",
              "      div.appendChild(label);\n",
              "      const progress = document.createElement('progress');\n",
              "      progress.max = size;\n",
              "      div.appendChild(progress);\n",
              "      document.body.appendChild(div);\n",
              "\n",
              "      const buffers = [];\n",
              "      let downloaded = 0;\n",
              "\n",
              "      const channel = await google.colab.kernel.comms.open(id);\n",
              "      // Send a message to notify the kernel that we're ready.\n",
              "      channel.send({})\n",
              "\n",
              "      for await (const message of channel.messages) {\n",
              "        // Send a message to notify the kernel that we're ready.\n",
              "        channel.send({})\n",
              "        if (message.buffers) {\n",
              "          for (const buffer of message.buffers) {\n",
              "            buffers.push(buffer);\n",
              "            downloaded += buffer.byteLength;\n",
              "            progress.value = downloaded;\n",
              "          }\n",
              "        }\n",
              "      }\n",
              "      const blob = new Blob(buffers, {type: 'application/binary'});\n",
              "      const a = document.createElement('a');\n",
              "      a.href = window.URL.createObjectURL(blob);\n",
              "      a.download = filename;\n",
              "      div.appendChild(a);\n",
              "      a.click();\n",
              "      div.remove();\n",
              "    }\n",
              "  "
            ],
            "text/plain": [
              "<IPython.core.display.Javascript object>"
            ]
          },
          "metadata": {
            "tags": []
          }
        },
        {
          "output_type": "display_data",
          "data": {
            "application/javascript": [
              "download(\"download_48bb1b53-3522-45da-a3e5-1c72f6bb50a7\", \"szunyog_predictions_3.csv\", 71797)"
            ],
            "text/plain": [
              "<IPython.core.display.Javascript object>"
            ]
          },
          "metadata": {
            "tags": []
          }
        }
      ]
    },
    {
      "cell_type": "code",
      "metadata": {
        "id": "yDwaaMLsnfwW",
        "colab_type": "code",
        "colab": {
          "base_uri": "https://localhost:8080/",
          "height": 35
        },
        "outputId": "3333b9d5-54a0-4eb3-8012-f297feb219ef"
      },
      "source": [
        "test_nat[1632]"
      ],
      "execution_count": 36,
      "outputs": [
        {
          "output_type": "execute_result",
          "data": {
            "application/vnd.google.colaboratory.intrinsic+json": {
              "type": "string"
            },
            "text/plain": [
              "'drive/My Drive/images/test_1632.png'"
            ]
          },
          "metadata": {
            "tags": []
          },
          "execution_count": 36
        }
      ]
    },
    {
      "cell_type": "markdown",
      "metadata": {
        "id": "Q_rUgufQ7-Pz",
        "colab_type": "text"
      },
      "source": [
        "# Második modell"
      ]
    },
    {
      "cell_type": "code",
      "metadata": {
        "id": "mJkKuHrPoRN9",
        "colab_type": "code",
        "colab": {
          "base_uri": "https://localhost:8080/",
          "height": 51
        },
        "outputId": "b780c495-377f-47ae-eb97-bed1218f5563"
      },
      "source": [
        "pretrained_model_2=InceptionResNetV2(weights='imagenet')"
      ],
      "execution_count": 37,
      "outputs": [
        {
          "output_type": "stream",
          "text": [
            "Downloading data from https://storage.googleapis.com/tensorflow/keras-applications/inception_resnet_v2/inception_resnet_v2_weights_tf_dim_ordering_tf_kernels.h5\n",
            "225214464/225209952 [==============================] - 3s 0us/step\n"
          ],
          "name": "stdout"
        }
      ]
    },
    {
      "cell_type": "code",
      "metadata": {
        "id": "DFPeyA1p4dYH",
        "colab_type": "code",
        "colab": {
          "base_uri": "https://localhost:8080/",
          "height": 51
        },
        "outputId": "9fd68acf-8baa-407d-a7f2-f5d0b99df171"
      },
      "source": [
        "train_datagenerator = ImageDataGenerator(preprocessing_function=imagenet_convert)\n",
        "val_datagenerator  = ImageDataGenerator(preprocessing_function=imagenet_convert)\n",
        "\n",
        "train_datagenerator = train_datagenerator.flow_from_directory(\n",
        "        'drive/My Drive/train/',\n",
        "        target_size=(224, 224),\n",
        "        batch_size=10,\n",
        "        class_mode='binary')\n",
        "val_datagenerator= val_datagenerator.flow_from_directory(\n",
        "        'drive/My Drive/val/',\n",
        "        target_size=(224,224),\n",
        "        batch_size=10 ,\n",
        "        class_mode='binary'\n",
        ")"
      ],
      "execution_count": 38,
      "outputs": [
        {
          "output_type": "stream",
          "text": [
            "Found 800 images belonging to 2 classes.\n",
            "Found 3479 images belonging to 2 classes.\n"
          ],
          "name": "stdout"
        }
      ]
    },
    {
      "cell_type": "code",
      "metadata": {
        "colab_type": "code",
        "id": "-bsvvleY64RB",
        "colab": {}
      },
      "source": [
        "pretrained_model_2._layers.pop()\n",
        "inputs = pretrained_model_2.input\n",
        "output = pretrained_model_2.layers[-1].output\n",
        "output = Dense(1, activation='sigmoid')(output)\n",
        "pretrained_model_2 = Model(inputs, output)"
      ],
      "execution_count": 39,
      "outputs": []
    },
    {
      "cell_type": "code",
      "metadata": {
        "id": "hM4BWGLf7VC4",
        "colab_type": "code",
        "colab": {}
      },
      "source": [
        "pretrained_model_2.compile(optimizer=Adam(lr=1e-4),loss='binary_crossentropy',metrics=['accuracy'])"
      ],
      "execution_count": 40,
      "outputs": []
    },
    {
      "cell_type": "code",
      "metadata": {
        "id": "eciFCTqf7B0z",
        "colab_type": "code",
        "colab": {
          "base_uri": "https://localhost:8080/",
          "height": 136
        },
        "outputId": "b9440e3c-e225-4e6d-efd8-b12484ef017b"
      },
      "source": [
        "pretrained_model_2.fit(train_datagenerator, steps_per_epoch=len(train_datagenerator),\n",
        "                     validation_data=val_datagenerator, validation_steps = len(val_datagenerator),\n",
        "                     validation_freq=3, epochs=3)"
      ],
      "execution_count": 41,
      "outputs": [
        {
          "output_type": "stream",
          "text": [
            "Epoch 1/3\n",
            "80/80 [==============================] - 17s 218ms/step - loss: 0.4735 - accuracy: 0.7750\n",
            "Epoch 2/3\n",
            "80/80 [==============================] - 17s 217ms/step - loss: 0.2348 - accuracy: 0.9050\n",
            "Epoch 3/3\n",
            "80/80 [==============================] - 42s 526ms/step - loss: 0.1087 - accuracy: 0.9563 - val_loss: 0.2238 - val_accuracy: 0.9279\n"
          ],
          "name": "stdout"
        },
        {
          "output_type": "execute_result",
          "data": {
            "text/plain": [
              "<tensorflow.python.keras.callbacks.History at 0x7f6e43841a20>"
            ]
          },
          "metadata": {
            "tags": []
          },
          "execution_count": 41
        }
      ]
    },
    {
      "cell_type": "code",
      "metadata": {
        "id": "OQUUVP8q7bSN",
        "colab_type": "code",
        "colab": {}
      },
      "source": [
        "def datapreprocess_2(sorszam):\n",
        "  img1 = image.load_img(test_nat[sorszam], target_size=(299, 299))\n",
        "  img1 = image.img_to_array(img1)\n",
        "  x = preprocess_input(np.expand_dims(img1.copy(), axis=0))\n",
        "  pred=pretrained_model_2.predict(x)\n",
        "  return(pred)"
      ],
      "execution_count": 42,
      "outputs": []
    },
    {
      "cell_type": "code",
      "metadata": {
        "id": "pDumlQjN_zUV",
        "colab_type": "code",
        "colab": {
          "base_uri": "https://localhost:8080/",
          "height": 34
        },
        "outputId": "de31776c-5be5-4557-b356-609b054128e3"
      },
      "source": [
        "datapreprocess_2(28)"
      ],
      "execution_count": 43,
      "outputs": [
        {
          "output_type": "execute_result",
          "data": {
            "text/plain": [
              "array([[0.618906]], dtype=float32)"
            ]
          },
          "metadata": {
            "tags": []
          },
          "execution_count": 43
        }
      ]
    },
    {
      "cell_type": "code",
      "metadata": {
        "colab_type": "code",
        "id": "y72iivCYAzTc",
        "colab": {
          "base_uri": "https://localhost:8080/",
          "height": 217
        },
        "outputId": "c537a1e7-c20b-4ff6-d07e-3d08b5684df6"
      },
      "source": [
        "Image.open('drive/My Drive/test/test_28.png')"
      ],
      "execution_count": 44,
      "outputs": [
        {
          "output_type": "execute_result",
          "data": {
            "image/png": "[encoded data removed]",
            "text/plain": [
              "<PIL.PngImagePlugin.PngImageFile image mode=RGB size=200x200 at 0x7F6E403CDF28>"
            ]
          },
          "metadata": {
            "tags": []
          },
          "execution_count": 44
        }
      ]
    },
    {
      "cell_type": "code",
      "metadata": {
        "id": "J7LC9yqIA1u5",
        "colab_type": "code",
        "colab": {}
      },
      "source": [
        ""
      ],
      "execution_count": 44,
      "outputs": []
    }
  ]
}